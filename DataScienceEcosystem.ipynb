{
 "cells": [
  {
   "cell_type": "markdown",
   "id": "36d753ee-f5b5-4916-a90c-9546452954c5",
   "metadata": {},
   "source": [
    "# Data Science Tools and Ecosystems"
   ]
  },
  {
   "cell_type": "markdown",
   "id": "b2f7fe61-76b7-402b-b06e-e5b82ced65f3",
   "metadata": {},
   "source": [
    "## In this notebook, Data Science Tools and Ecosystem are summarized."
   ]
  },
  {
   "cell_type": "markdown",
   "id": "5b968e6d-e5ef-4b1f-9e00-4cbc3f525e2c",
   "metadata": {},
   "source": [
    "**Objectives**\n",
    "+ To review popular languages used by Data Scientists\n",
    "+ To recap on the commonly used libraries in data science\n",
    "+ To highlight some of the more widely used open source development environments used by Data Scientists"
   ]
  },
  {
   "cell_type": "markdown",
   "id": "8b1481ee-12e7-4060-9a86-a5a16117d9f9",
   "metadata": {},
   "source": [
    "### Some of the popular languages that Data Scientists use are:\n",
    "1. Python\n",
    "2. R\n",
    "3. Scala\n",
    "4. Julia"
   ]
  },
  {
   "cell_type": "markdown",
   "id": "356dc104-9df3-4253-a388-952c4377b155",
   "metadata": {},
   "source": [
    "### Some of the commonly used libraries used by Data Scientists include:\n",
    "1. Numpy\n",
    "2. Pandas\n",
    "3. NLTK\n",
    "4. Pytorch\n",
    "5. Seaborn"
   ]
  },
  {
   "cell_type": "markdown",
   "id": "1ccfac99-4d2e-4f7f-9839-cfd9abc16fea",
   "metadata": {},
   "source": [
    "| Data Science Tools |\n",
    "|--------------------|\n",
    "| Jupyter Notebook |\n",
    "| R Studio |\n",
    "| Apache Zeppelin |"
   ]
  },
  {
   "cell_type": "markdown",
   "id": "c874e42f-160a-43c6-8fcf-00203158fb2f",
   "metadata": {},
   "source": [
    "### Below are a few examples of evaluating arithmetic expressions in Python"
   ]
  },
  {
   "cell_type": "markdown",
   "id": "0bc81307-80c6-41b8-abf6-8e3acf2fff8c",
   "metadata": {},
   "source": [
    "This is a simple arithmetic expression to multiply then add integers"
   ]
  },
  {
   "cell_type": "code",
   "execution_count": 1,
   "id": "ca5ce2f3-5151-45c8-8fdc-b3b499d418c0",
   "metadata": {},
   "outputs": [
    {
     "data": {
      "text/plain": [
       "17"
      ]
     },
     "execution_count": 1,
     "metadata": {},
     "output_type": "execute_result"
    }
   ],
   "source": [
    "(3*4)+5"
   ]
  },
  {
   "cell_type": "markdown",
   "id": "f1d44a4f-1f90-4980-9705-2369491e69f7",
   "metadata": {},
   "source": [
    "This will convert 200 mninutes to hours by dividng by 60"
   ]
  },
  {
   "cell_type": "code",
   "execution_count": 8,
   "id": "0005863c-a12c-401e-bce0-4abb1341ff87",
   "metadata": {},
   "outputs": [
    {
     "name": "stdout",
     "output_type": "stream",
     "text": [
      "03:20\n"
     ]
    }
   ],
   "source": [
    "minutes = 200\n",
    "print(\"%02d:%02d\" % (divmod(minutes, 60)))"
   ]
  },
  {
   "cell_type": "markdown",
   "id": "24510f26-0d08-41ce-8414-1dc2cf934d7b",
   "metadata": {},
   "source": [
    "## Author\n",
    "Ifeatu Uzodinma"
   ]
  },
  {
   "cell_type": "code",
   "execution_count": null,
   "id": "dca2ce7f-6c85-4d08-ade2-bde9fb35fbca",
   "metadata": {},
   "outputs": [],
   "source": []
  }
 ],
 "metadata": {
  "kernelspec": {
   "display_name": "Python 3 (ipykernel)",
   "language": "python",
   "name": "python3"
  },
  "language_info": {
   "codemirror_mode": {
    "name": "ipython",
    "version": 3
   },
   "file_extension": ".py",
   "mimetype": "text/x-python",
   "name": "python",
   "nbconvert_exporter": "python",
   "pygments_lexer": "ipython3",
   "version": "3.12.9"
  }
 },
 "nbformat": 4,
 "nbformat_minor": 5
}
